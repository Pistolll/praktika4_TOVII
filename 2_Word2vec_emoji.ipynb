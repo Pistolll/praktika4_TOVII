{
  "nbformat": 4,
  "nbformat_minor": 0,
  "metadata": {
    "colab": {
      "provenance": [],
      "include_colab_link": true
    },
    "kernelspec": {
      "name": "python3",
      "display_name": "Python 3"
    },
    "language_info": {
      "name": "python"
    }
  },
  "cells": [
    {
      "cell_type": "markdown",
      "metadata": {
        "id": "view-in-github",
        "colab_type": "text"
      },
      "source": [
        "<a href=\"https://colab.research.google.com/github/Pistolll/praktika4_TOVII/blob/main/2_Word2vec_emoji.ipynb\" target=\"_parent\"><img src=\"https://colab.research.google.com/assets/colab-badge.svg\" alt=\"Open In Colab\"/></a>"
      ]
    },
    {
      "cell_type": "markdown",
      "source": [
        "# Исследование векторных представлений эмотиконов"
      ],
      "metadata": {
        "id": "6kP8pavoShGb"
      }
    },
    {
      "cell_type": "markdown",
      "source": [
        "Загрузите корпус текстов, содержащих предложения как со словами, так и эмотиконами. Выведите несколько предложений на экран, убедитесь, что эмотиконы отображаются корректно. Кодировка текста - utf-8.\n",
        "\n",
        "Разделите предложения по словам, считая эмотикон отдельным словом (нужно подобрать правильный символ-разделитель). В корпусе ровно 1000000 строк."
      ],
      "metadata": {
        "id": "bZbJPrC6SwOw"
      }
    },
    {
      "cell_type": "code",
      "metadata": {
        "id": "EMKAtugGGV6D",
        "colab": {
          "base_uri": "https://localhost:8080/"
        },
        "outputId": "cedfdfb1-78e8-43ea-ab7f-c8549bbc0987"
      },
      "source": [
        "import os\n",
        "from time import time\n",
        "import gdown\n",
        "URL='https://drive.google.com/u/1/uc?id=1TPaQTYDpf7p2EklUkLdjK9T5ATztj7oF&export=download'\n",
        "gdown.download(url=URL)\n",
        "!unzip corpus.zip"
      ],
      "execution_count": 1,
      "outputs": [
        {
          "output_type": "stream",
          "name": "stderr",
          "text": [
            "Downloading...\n",
            "From: https://drive.google.com/u/1/uc?id=1TPaQTYDpf7p2EklUkLdjK9T5ATztj7oF&export=download\n",
            "To: /content/corpus.zip\n",
            "100%|██████████| 22.0M/22.0M [00:00<00:00, 130MB/s] \n"
          ]
        },
        {
          "output_type": "stream",
          "name": "stdout",
          "text": [
            "Archive:  corpus.zip\n",
            "replace corpus.txt? [y]es, [n]o, [A]ll, [N]one, [r]ename: y\n",
            "  inflating: corpus.txt              \n"
          ]
        }
      ]
    },
    {
      "cell_type": "code",
      "metadata": {
        "id": "v5p4gBzhGnZF"
      },
      "source": [
        "# читаем файл и разбиваем на слова по пробелу.\n",
        "with open(\"./corpus.txt\" , 'r', encoding='utf-8') as f:\n",
        "            lines = f.readlines()\n",
        "            train_data = [line.strip().split() for line in lines]"
      ],
      "execution_count": 2,
      "outputs": []
    },
    {
      "cell_type": "code",
      "metadata": {
        "colab": {
          "base_uri": "https://localhost:8080/"
        },
        "id": "lansMYhZG4Ad",
        "outputId": "744b72fa-2d37-4dac-92ee-57cb0a95a706"
      },
      "source": [
        "print(*train_data[:10],sep='\\n') # несколько предложений"
      ],
      "execution_count": 3,
      "outputs": [
        {
          "output_type": "stream",
          "name": "stdout",
          "text": [
            "['they', 'know', 'what', 'i', 'love', '😊']\n",
            "['lemme', 'get', 'to', 'school', '🙄']\n",
            "['watching', 'the', 'ellen', 'degeneres', 'show', '😃']\n",
            "['i', 'spent', 'twenty', 'minutes', 'herding', 'turkeys', 'by', 'myself', 'so', \"that's\", 'how', 'my', 'days', 'going', '🦃']\n",
            "['hello', 'seattle', 'cityscape', '🏗']\n",
            "['was', 'that', 'a', 'sheep', 'brain', 'in', 'your', 'snap', '👀']\n",
            "['just', 'waiting', 'for', 'my', 'beard', 'to', 'connect', 'so', 'i', 'can', 'go', 'to', 'my', 'third', 'form', '🙄']\n",
            "['aye', 'i', 'tried', 'my', 'best', 'to', 'get', 'him', 'out', 'loser', 'dan', '😝']\n",
            "['day', 'tracking', 'our', 'next', 'ep', 'down', '👏']\n",
            "['hey', \"it's\", 'my', 'birthday', \"i'm\", 'could', 'you', 'say', 'happy', 'birthday', 'flo', '🎉', 'x8']\n"
          ]
        }
      ]
    },
    {
      "cell_type": "code",
      "metadata": {
        "colab": {
          "base_uri": "https://localhost:8080/"
        },
        "id": "8ZPIV60zG_iJ",
        "outputId": "7a7c2b5a-736f-4556-c141-58ef3384b4a6"
      },
      "source": [
        "len(train_data) # число слов"
      ],
      "execution_count": 4,
      "outputs": [
        {
          "output_type": "execute_result",
          "data": {
            "text/plain": [
              "1000000"
            ]
          },
          "metadata": {},
          "execution_count": 4
        }
      ]
    },
    {
      "cell_type": "markdown",
      "source": [
        "Эмотиконы представлены в виде символов UNICODE с определенными кодами. Функция ниже позволяет проверить, является ли символ или слово эмотиконом. Будем использовать ее."
      ],
      "metadata": {
        "id": "AZnxVwuIUWu_"
      }
    },
    {
      "cell_type": "code",
      "source": [
        "# Проверка, является ли слово эмотиконом\n",
        "import re\n",
        "emoji_re = re.compile(\n",
        "    \"[\"\n",
        "    u\"\\U00002712\\U00002714\\U00002716\\U0000271d\\U00002721\\U00002728\\U00002733\\U00002734\\U00002744\\U00002747\\U0000274c\\U0000274e\\U00002753-\\U00002755\\U00002757\\U00002763\\U00002764\\U00002795-\\U00002797\\U000027a1\\U000027b0\\U000027bf\\U00002934\\U00002935\\U00002b05-\\U00002b07\\U00002b1b\\U00002b1c\\U00002b50\\U00002b55\\U00003030\\U0000303d\\U0001f004\\U0001f0cf\\U0001f170\\U0001f171\\U0001f17e\\U0001f17f\\U0001f18e\\U0001f191-\\U0001f19a\\U0001f201\\U0001f202\\U0001f21a\\U0001f22f\\U0001f232-\\U0001f23a\\U0001f250\\U0001f251\\U0001f300-\\U0001f321\\U0001f324-\\U0001f393\\U0001f396\\U0001f397\\U0001f399-\\U0001f39b\\U0001f39e-\\U0001f3f0\\U0001f3f3-\\U0001f3f5\\U0001f3f7-\\U0001f4fd\\U0001f4ff-\\U0001f53d\\U0001f549-\\U0001f54e\\U0001f550-\\U0001f567\\U0001f56f\\U0001f570\\U0001f573-\\U0001f579\\U0001f587\\U0001f58a-\\U0001f58d\\U0001f590\\U0001f595\\U0001f596\\U0001f5a5\\U0001f5a8\\U0001f5b1\\U0001f5b2\\U0001f5bc\\U0001f5c2-\\U0001f5c4\\U0001f5d1-\\U0001f5d3\\U0001f5dc-\\U0001f5de\\U0001f5e1\\U0001f5e3\\U0001f5ef\\U0001f5f3\\U0001f5fa-\\U0001f64f\\U0001f680-\\U0001f6c5\\U0001f6cb-\\U0001f6d0\\U0001f6e0-\\U0001f6e5\\U0001f6e9\\U0001f6eb\\U0001f6ec\\U0001f6f0\\U0001f6f3\\U0001f910-\\U0001f918\\U0001f980-\\U0001f984\\U0001f9c0\\U00003297\\U00003299\\U000000a9\\U000000ae\\U0000203c\\U00002049\\U00002122\\U00002139\\U00002194-\\U00002199\\U000021a9\\U000021aa\\U0000231a\\U0000231b\\U00002328\\U00002388\\U000023cf\\U000023e9-\\U000023f3\\U000023f8-\\U000023fa\\U000024c2\\U000025aa\\U000025ab\\U000025b6\\U000025c0\\U000025fb-\\U000025fe\\U00002600-\\U00002604\\U0000260e\\U00002611\\U00002614\\U00002615\\U00002618\\U0000261d\\U00002620\\U00002622\\U00002623\\U00002626\\U0000262a\\U0000262e\\U0000262f\\U00002638-\\U0000263a\\U00002648-\\U00002653\\U00002660\\U00002663\\U00002665\\U00002666\\U00002668\\U0000267b\\U0000267f\\U00002692-\\U00002694\\U00002696\\U00002697\\U00002699\\U0000269b\\U0000269c\\U000026a0\\U000026a1\\U000026aa\\U000026ab\\U000026b0\\U000026b1\\U000026bd\\U000026be\\U000026c4\\U000026c5\\U000026c8\\U000026ce\\U000026cf\\U000026d1\\U000026d3\\U000026d4\\U000026e9\\U000026ea\\U000026f0-\\U000026f5\\U000026f7-\\U000026fa\\U000026fd\\U00002702\\U00002705\\U00002708-\\U0000270d\\U0000270f]|[#]\\U000020e3|[*]\\U000020e3|[0]\\U000020e3|[1]\\U000020e3|[2]\\U000020e3|[3]\\U000020e3|[4]\\U000020e3|[5]\\U000020e3|[6]\\U000020e3|[7]\\U000020e3|[8]\\U000020e3|[9]\\U000020e3|\\U0001f1e6[\\U0001f1e8-\\U0001f1ec\\U0001f1ee\\U0001f1f1\\U0001f1f2\\U0001f1f4\\U0001f1f6-\\U0001f1fa\\U0001f1fc\\U0001f1fd\\U0001f1ff]|\\U0001f1e7[\\U0001f1e6\\U0001f1e7\\U0001f1e9-\\U0001f1ef\\U0001f1f1-\\U0001f1f4\\U0001f1f6-\\U0001f1f9\\U0001f1fb\\U0001f1fc\\U0001f1fe\\U0001f1ff]|\\U0001f1e8[\\U0001f1e6\\U0001f1e8\\U0001f1e9\\U0001f1eb-\\U0001f1ee\\U0001f1f0-\\U0001f1f5\\U0001f1f7\\U0001f1fa-\\U0001f1ff]|\\U0001f1e9[\\U0001f1ea\\U0001f1ec\\U0001f1ef\\U0001f1f0\\U0001f1f2\\U0001f1f4\\U0001f1ff]|\\U0001f1ea[\\U0001f1e6\\U0001f1e8\\U0001f1ea\\U0001f1ec\\U0001f1ed\\U0001f1f7-\\U0001f1fa]|\\U0001f1eb[\\U0001f1ee-\\U0001f1f0\\U0001f1f2\\U0001f1f4\\U0001f1f7]|\\U0001f1ec[\\U0001f1e6\\U0001f1e7\\U0001f1e9-\\U0001f1ee\\U0001f1f1-\\U0001f1f3\\U0001f1f5-\\U0001f1fa\\U0001f1fc\\U0001f1fe]|\\U0001f1ed[\\U0001f1f0\\U0001f1f2\\U0001f1f3\\U0001f1f7\\U0001f1f9\\U0001f1fa]|\\U0001f1ee[\\U0001f1e8-\\U0001f1ea\\U0001f1f1-\\U0001f1f4\\U0001f1f6-\\U0001f1f9]|\\U0001f1ef[\\U0001f1ea\\U0001f1f2\\U0001f1f4\\U0001f1f5]|\\U0001f1f0[\\U0001f1ea\\U0001f1ec-\\U0001f1ee\\U0001f1f2\\U0001f1f3\\U0001f1f5\\U0001f1f7\\U0001f1fc\\U0001f1fe\\U0001f1ff]|\\U0001f1f1[\\U0001f1e6-\\U0001f1e8\\U0001f1ee\\U0001f1f0\\U0001f1f7-\\U0001f1fb\\U0001f1fe]|\\U0001f1f2[\\U0001f1e6\\U0001f1e8-\\U0001f1ed\\U0001f1f0-\\U0001f1ff]|\\U0001f1f3[\\U0001f1e6\\U0001f1e8\\U0001f1ea-\\U0001f1ec\\U0001f1ee\\U0001f1f1\\U0001f1f4\\U0001f1f5\\U0001f1f7\\U0001f1fa\\U0001f1ff]|\\U0001f1f4\\U0001f1f2|\\U0001f1f5[\\U0001f1e6\\U0001f1ea-\\U0001f1ed\\U0001f1f0-\\U0001f1f3\\U0001f1f7-\\U0001f1f9\\U0001f1fc\\U0001f1fe]|\\U0001f1f6\\U0001f1e6|\\U0001f1f7[\\U0001f1ea\\U0001f1f4\\U0001f1f8\\U0001f1fa\\U0001f1fc]|\\U0001f1f8[\\U0001f1e6-\\U0001f1ea\\U0001f1ec-\\U0001f1f4\\U0001f1f7-\\U0001f1f9\\U0001f1fb\\U0001f1fd-\\U0001f1ff]|\\U0001f1f9[\\U0001f1e6\\U0001f1e8\\U0001f1e9\\U0001f1eb-\\U0001f1ed\\U0001f1ef-\\U0001f1f4\\U0001f1f7\\U0001f1f9\\U0001f1fb\\U0001f1fc\\U0001f1ff]|\\U0001f1fa[\\U0001f1e6\\U0001f1ec\\U0001f1f2\\U0001f1f8\\U0001f1fe\\U0001f1ff]|\\U0001f1fb[\\U0001f1e6\\U0001f1e8\\U0001f1ea\\U0001f1ec\\U0001f1ee\\U0001f1f3\\U0001f1fa]|\\U0001f1fc[\\U0001f1eb\\U0001f1f8]|\\U0001f1fd\\U0001f1f0|\\U0001f1fe[\\U0001f1ea\\U0001f1f9]|\\U0001f1ff[\\U0001f1e6\\U0001f1f2\\U0001f1fc\"\n",
        "    \"]+\",\n",
        "    flags=re.UNICODE,\n",
        ")\n",
        "def is_emoji(word):\n",
        "    if emoji_re.match(word[0]):\n",
        "        return True\n",
        "    else:\n",
        "        return False"
      ],
      "metadata": {
        "id": "SYHHlSGEz47C"
      },
      "execution_count": 5,
      "outputs": []
    },
    {
      "cell_type": "markdown",
      "metadata": {
        "id": "FRaGsS4IHGMS"
      },
      "source": [
        "# Создание и обучение модели векторных представлений\n",
        "\n",
        "Средствами библиотеки `gensim` создайте и обучите Word2Vec модель на этом наборе слов и словарь всех \"слов\". Размер векторных представлений - 300, прочие аргументы выбирайте самостоятельно, с учетом последующих требований. Ограничьте время обучения, чтобы оно не превосходило 5 минут. Время обучения выведите на экран.  "
      ]
    },
    {
      "cell_type": "code",
      "metadata": {
        "id": "ZlLwqLERHI77",
        "colab": {
          "base_uri": "https://localhost:8080/"
        },
        "outputId": "2fd479eb-4a46-4528-97d8-383405200f67"
      },
      "source": [
        "# обучение модели\n",
        "!pip install numpy==1.26.4 --force-reinstall\n",
        "\n",
        "from gensim.models import Word2Vec\n",
        "model = Word2Vec(sentences=None, vector_size=300, workers=4, min_count=10, negative=5, window=5) # создаем модель\n",
        "t = time()\n",
        "model.build_vocab(train_data, progress_per=10000) # словарь\n",
        "print('Time to build vocab: {} mins'.format(round((time() - t) / 60, 2)))"
      ],
      "execution_count": 6,
      "outputs": [
        {
          "output_type": "stream",
          "name": "stdout",
          "text": [
            "Collecting numpy==1.26.4\n",
            "  Using cached numpy-1.26.4-cp311-cp311-manylinux_2_17_x86_64.manylinux2014_x86_64.whl.metadata (61 kB)\n",
            "Using cached numpy-1.26.4-cp311-cp311-manylinux_2_17_x86_64.manylinux2014_x86_64.whl (18.3 MB)\n",
            "Installing collected packages: numpy\n",
            "  Attempting uninstall: numpy\n",
            "    Found existing installation: numpy 1.26.4\n",
            "    Uninstalling numpy-1.26.4:\n",
            "      Successfully uninstalled numpy-1.26.4\n",
            "\u001b[31mERROR: pip's dependency resolver does not currently take into account all the packages that are installed. This behaviour is the source of the following dependency conflicts.\n",
            "thinc 8.3.6 requires numpy<3.0.0,>=2.0.0, but you have numpy 1.26.4 which is incompatible.\n",
            "tsfresh 0.21.0 requires scipy>=1.14.0; python_version >= \"3.10\", but you have scipy 1.13.1 which is incompatible.\u001b[0m\u001b[31m\n",
            "\u001b[0mSuccessfully installed numpy-1.26.4\n",
            "Time to build vocab: 0.06 mins\n"
          ]
        }
      ]
    },
    {
      "cell_type": "code",
      "metadata": {
        "colab": {
          "base_uri": "https://localhost:8080/"
        },
        "id": "AMMa6rWKITBc",
        "outputId": "60d85234-ce1e-43cd-9f69-b63fe9e0cbfa"
      },
      "source": [
        "model.corpus_count # число слов в корпусе"
      ],
      "execution_count": 7,
      "outputs": [
        {
          "output_type": "execute_result",
          "data": {
            "text/plain": [
              "1000000"
            ]
          },
          "metadata": {},
          "execution_count": 7
        }
      ]
    },
    {
      "cell_type": "code",
      "metadata": {
        "colab": {
          "base_uri": "https://localhost:8080/"
        },
        "id": "xXYmlEzHJdUw",
        "outputId": "f57f0e82-34a5-47be-ed40-62fc487b3197"
      },
      "source": [
        "# обучаем модель ~ 10 минут\n",
        "t = time()\n",
        "model.train(train_data, total_examples=model.corpus_count, epochs=20, report_delay=1) # обучаем ~ 10 мин\n",
        "print('Time to train the model: {} mins'.format(round((time() - t) / 60, 2)))"
      ],
      "execution_count": 8,
      "outputs": [
        {
          "output_type": "stream",
          "name": "stdout",
          "text": [
            "Time to train the model: 8.86 mins\n"
          ]
        }
      ]
    },
    {
      "cell_type": "code",
      "metadata": {
        "id": "l5xQnDENMOSf"
      },
      "source": [
        "# сохраним\n",
        "model.save(\"word2vec5.bin\")\n",
        "model.wv.save_word2vec_format('word2vec5.txt')"
      ],
      "execution_count": 9,
      "outputs": []
    },
    {
      "cell_type": "code",
      "source": [
        "# интерфейс векторных представлений\n",
        "wv=model.wv"
      ],
      "metadata": {
        "id": "bRrxxlL6w0Iq"
      },
      "execution_count": 10,
      "outputs": []
    },
    {
      "cell_type": "markdown",
      "source": [
        "Отберите из словаря только эмотиконы. Они являются символами Unicode. Создайте и выведите на экран таблицу pandas со со столбцами, содержащими эмотиконы и их коды. Код для символа можно получить командой `ord()`. Какой размер таблицы?"
      ],
      "metadata": {
        "id": "7g20sm8_Zix9"
      }
    },
    {
      "cell_type": "code",
      "source": [
        "emo_unic_symb=[x for x in wv.index_to_key if is_emoji(x)]\n",
        "emo_unic_code=[ord(x) for x in emo_unic_symb]\n",
        "import pandas as pd\n",
        "emo_table=pd.DataFrame(list(zip(emo_unic_symb, emo_unic_code)),columns=['Emoticon','Code'])\n",
        "print('Размер таблицы ',emo_table.shape)\n",
        "emo_table.head()"
      ],
      "metadata": {
        "colab": {
          "base_uri": "https://localhost:8080/",
          "height": 223
        },
        "id": "qIKnWz-I3AXW",
        "outputId": "81606d69-c890-4215-a3b5-3f97b4fade8a"
      },
      "execution_count": 11,
      "outputs": [
        {
          "output_type": "stream",
          "name": "stdout",
          "text": [
            "Размер таблицы  (911, 2)\n"
          ]
        },
        {
          "output_type": "execute_result",
          "data": {
            "text/plain": [
              "  Emoticon    Code\n",
              "0        😂  128514\n",
              "1        😭  128557\n",
              "2        😍  128525\n",
              "3        😊  128522\n",
              "4        🙄  128580"
            ],
            "text/html": [
              "\n",
              "  <div id=\"df-427ea683-7dac-4a7f-8924-eed4d238c9ee\" class=\"colab-df-container\">\n",
              "    <div>\n",
              "<style scoped>\n",
              "    .dataframe tbody tr th:only-of-type {\n",
              "        vertical-align: middle;\n",
              "    }\n",
              "\n",
              "    .dataframe tbody tr th {\n",
              "        vertical-align: top;\n",
              "    }\n",
              "\n",
              "    .dataframe thead th {\n",
              "        text-align: right;\n",
              "    }\n",
              "</style>\n",
              "<table border=\"1\" class=\"dataframe\">\n",
              "  <thead>\n",
              "    <tr style=\"text-align: right;\">\n",
              "      <th></th>\n",
              "      <th>Emoticon</th>\n",
              "      <th>Code</th>\n",
              "    </tr>\n",
              "  </thead>\n",
              "  <tbody>\n",
              "    <tr>\n",
              "      <th>0</th>\n",
              "      <td>😂</td>\n",
              "      <td>128514</td>\n",
              "    </tr>\n",
              "    <tr>\n",
              "      <th>1</th>\n",
              "      <td>😭</td>\n",
              "      <td>128557</td>\n",
              "    </tr>\n",
              "    <tr>\n",
              "      <th>2</th>\n",
              "      <td>😍</td>\n",
              "      <td>128525</td>\n",
              "    </tr>\n",
              "    <tr>\n",
              "      <th>3</th>\n",
              "      <td>😊</td>\n",
              "      <td>128522</td>\n",
              "    </tr>\n",
              "    <tr>\n",
              "      <th>4</th>\n",
              "      <td>🙄</td>\n",
              "      <td>128580</td>\n",
              "    </tr>\n",
              "  </tbody>\n",
              "</table>\n",
              "</div>\n",
              "    <div class=\"colab-df-buttons\">\n",
              "\n",
              "  <div class=\"colab-df-container\">\n",
              "    <button class=\"colab-df-convert\" onclick=\"convertToInteractive('df-427ea683-7dac-4a7f-8924-eed4d238c9ee')\"\n",
              "            title=\"Convert this dataframe to an interactive table.\"\n",
              "            style=\"display:none;\">\n",
              "\n",
              "  <svg xmlns=\"http://www.w3.org/2000/svg\" height=\"24px\" viewBox=\"0 -960 960 960\">\n",
              "    <path d=\"M120-120v-720h720v720H120Zm60-500h600v-160H180v160Zm220 220h160v-160H400v160Zm0 220h160v-160H400v160ZM180-400h160v-160H180v160Zm440 0h160v-160H620v160ZM180-180h160v-160H180v160Zm440 0h160v-160H620v160Z\"/>\n",
              "  </svg>\n",
              "    </button>\n",
              "\n",
              "  <style>\n",
              "    .colab-df-container {\n",
              "      display:flex;\n",
              "      gap: 12px;\n",
              "    }\n",
              "\n",
              "    .colab-df-convert {\n",
              "      background-color: #E8F0FE;\n",
              "      border: none;\n",
              "      border-radius: 50%;\n",
              "      cursor: pointer;\n",
              "      display: none;\n",
              "      fill: #1967D2;\n",
              "      height: 32px;\n",
              "      padding: 0 0 0 0;\n",
              "      width: 32px;\n",
              "    }\n",
              "\n",
              "    .colab-df-convert:hover {\n",
              "      background-color: #E2EBFA;\n",
              "      box-shadow: 0px 1px 2px rgba(60, 64, 67, 0.3), 0px 1px 3px 1px rgba(60, 64, 67, 0.15);\n",
              "      fill: #174EA6;\n",
              "    }\n",
              "\n",
              "    .colab-df-buttons div {\n",
              "      margin-bottom: 4px;\n",
              "    }\n",
              "\n",
              "    [theme=dark] .colab-df-convert {\n",
              "      background-color: #3B4455;\n",
              "      fill: #D2E3FC;\n",
              "    }\n",
              "\n",
              "    [theme=dark] .colab-df-convert:hover {\n",
              "      background-color: #434B5C;\n",
              "      box-shadow: 0px 1px 3px 1px rgba(0, 0, 0, 0.15);\n",
              "      filter: drop-shadow(0px 1px 2px rgba(0, 0, 0, 0.3));\n",
              "      fill: #FFFFFF;\n",
              "    }\n",
              "  </style>\n",
              "\n",
              "    <script>\n",
              "      const buttonEl =\n",
              "        document.querySelector('#df-427ea683-7dac-4a7f-8924-eed4d238c9ee button.colab-df-convert');\n",
              "      buttonEl.style.display =\n",
              "        google.colab.kernel.accessAllowed ? 'block' : 'none';\n",
              "\n",
              "      async function convertToInteractive(key) {\n",
              "        const element = document.querySelector('#df-427ea683-7dac-4a7f-8924-eed4d238c9ee');\n",
              "        const dataTable =\n",
              "          await google.colab.kernel.invokeFunction('convertToInteractive',\n",
              "                                                    [key], {});\n",
              "        if (!dataTable) return;\n",
              "\n",
              "        const docLinkHtml = 'Like what you see? Visit the ' +\n",
              "          '<a target=\"_blank\" href=https://colab.research.google.com/notebooks/data_table.ipynb>data table notebook</a>'\n",
              "          + ' to learn more about interactive tables.';\n",
              "        element.innerHTML = '';\n",
              "        dataTable['output_type'] = 'display_data';\n",
              "        await google.colab.output.renderOutput(dataTable, element);\n",
              "        const docLink = document.createElement('div');\n",
              "        docLink.innerHTML = docLinkHtml;\n",
              "        element.appendChild(docLink);\n",
              "      }\n",
              "    </script>\n",
              "  </div>\n",
              "\n",
              "\n",
              "    <div id=\"df-9754c851-e7af-49af-941e-f7fac883b381\">\n",
              "      <button class=\"colab-df-quickchart\" onclick=\"quickchart('df-9754c851-e7af-49af-941e-f7fac883b381')\"\n",
              "                title=\"Suggest charts\"\n",
              "                style=\"display:none;\">\n",
              "\n",
              "<svg xmlns=\"http://www.w3.org/2000/svg\" height=\"24px\"viewBox=\"0 0 24 24\"\n",
              "     width=\"24px\">\n",
              "    <g>\n",
              "        <path d=\"M19 3H5c-1.1 0-2 .9-2 2v14c0 1.1.9 2 2 2h14c1.1 0 2-.9 2-2V5c0-1.1-.9-2-2-2zM9 17H7v-7h2v7zm4 0h-2V7h2v10zm4 0h-2v-4h2v4z\"/>\n",
              "    </g>\n",
              "</svg>\n",
              "      </button>\n",
              "\n",
              "<style>\n",
              "  .colab-df-quickchart {\n",
              "      --bg-color: #E8F0FE;\n",
              "      --fill-color: #1967D2;\n",
              "      --hover-bg-color: #E2EBFA;\n",
              "      --hover-fill-color: #174EA6;\n",
              "      --disabled-fill-color: #AAA;\n",
              "      --disabled-bg-color: #DDD;\n",
              "  }\n",
              "\n",
              "  [theme=dark] .colab-df-quickchart {\n",
              "      --bg-color: #3B4455;\n",
              "      --fill-color: #D2E3FC;\n",
              "      --hover-bg-color: #434B5C;\n",
              "      --hover-fill-color: #FFFFFF;\n",
              "      --disabled-bg-color: #3B4455;\n",
              "      --disabled-fill-color: #666;\n",
              "  }\n",
              "\n",
              "  .colab-df-quickchart {\n",
              "    background-color: var(--bg-color);\n",
              "    border: none;\n",
              "    border-radius: 50%;\n",
              "    cursor: pointer;\n",
              "    display: none;\n",
              "    fill: var(--fill-color);\n",
              "    height: 32px;\n",
              "    padding: 0;\n",
              "    width: 32px;\n",
              "  }\n",
              "\n",
              "  .colab-df-quickchart:hover {\n",
              "    background-color: var(--hover-bg-color);\n",
              "    box-shadow: 0 1px 2px rgba(60, 64, 67, 0.3), 0 1px 3px 1px rgba(60, 64, 67, 0.15);\n",
              "    fill: var(--button-hover-fill-color);\n",
              "  }\n",
              "\n",
              "  .colab-df-quickchart-complete:disabled,\n",
              "  .colab-df-quickchart-complete:disabled:hover {\n",
              "    background-color: var(--disabled-bg-color);\n",
              "    fill: var(--disabled-fill-color);\n",
              "    box-shadow: none;\n",
              "  }\n",
              "\n",
              "  .colab-df-spinner {\n",
              "    border: 2px solid var(--fill-color);\n",
              "    border-color: transparent;\n",
              "    border-bottom-color: var(--fill-color);\n",
              "    animation:\n",
              "      spin 1s steps(1) infinite;\n",
              "  }\n",
              "\n",
              "  @keyframes spin {\n",
              "    0% {\n",
              "      border-color: transparent;\n",
              "      border-bottom-color: var(--fill-color);\n",
              "      border-left-color: var(--fill-color);\n",
              "    }\n",
              "    20% {\n",
              "      border-color: transparent;\n",
              "      border-left-color: var(--fill-color);\n",
              "      border-top-color: var(--fill-color);\n",
              "    }\n",
              "    30% {\n",
              "      border-color: transparent;\n",
              "      border-left-color: var(--fill-color);\n",
              "      border-top-color: var(--fill-color);\n",
              "      border-right-color: var(--fill-color);\n",
              "    }\n",
              "    40% {\n",
              "      border-color: transparent;\n",
              "      border-right-color: var(--fill-color);\n",
              "      border-top-color: var(--fill-color);\n",
              "    }\n",
              "    60% {\n",
              "      border-color: transparent;\n",
              "      border-right-color: var(--fill-color);\n",
              "    }\n",
              "    80% {\n",
              "      border-color: transparent;\n",
              "      border-right-color: var(--fill-color);\n",
              "      border-bottom-color: var(--fill-color);\n",
              "    }\n",
              "    90% {\n",
              "      border-color: transparent;\n",
              "      border-bottom-color: var(--fill-color);\n",
              "    }\n",
              "  }\n",
              "</style>\n",
              "\n",
              "      <script>\n",
              "        async function quickchart(key) {\n",
              "          const quickchartButtonEl =\n",
              "            document.querySelector('#' + key + ' button');\n",
              "          quickchartButtonEl.disabled = true;  // To prevent multiple clicks.\n",
              "          quickchartButtonEl.classList.add('colab-df-spinner');\n",
              "          try {\n",
              "            const charts = await google.colab.kernel.invokeFunction(\n",
              "                'suggestCharts', [key], {});\n",
              "          } catch (error) {\n",
              "            console.error('Error during call to suggestCharts:', error);\n",
              "          }\n",
              "          quickchartButtonEl.classList.remove('colab-df-spinner');\n",
              "          quickchartButtonEl.classList.add('colab-df-quickchart-complete');\n",
              "        }\n",
              "        (() => {\n",
              "          let quickchartButtonEl =\n",
              "            document.querySelector('#df-9754c851-e7af-49af-941e-f7fac883b381 button');\n",
              "          quickchartButtonEl.style.display =\n",
              "            google.colab.kernel.accessAllowed ? 'block' : 'none';\n",
              "        })();\n",
              "      </script>\n",
              "    </div>\n",
              "    </div>\n",
              "  </div>\n"
            ],
            "application/vnd.google.colaboratory.intrinsic+json": {
              "type": "dataframe",
              "variable_name": "emo_table",
              "summary": "{\n  \"name\": \"emo_table\",\n  \"rows\": 911,\n  \"fields\": [\n    {\n      \"column\": \"Emoticon\",\n      \"properties\": {\n        \"dtype\": \"string\",\n        \"num_unique_values\": 911,\n        \"samples\": [\n          \"\\ud83d\\udc61\",\n          \"\\u2754\",\n          \"\\ud83d\\udc92\"\n        ],\n        \"semantic_type\": \"\",\n        \"description\": \"\"\n      }\n    },\n    {\n      \"column\": \"Code\",\n      \"properties\": {\n        \"dtype\": \"number\",\n        \"std\": 42378,\n        \"min\": 169,\n        \"max\": 129472,\n        \"num_unique_values\": 911,\n        \"samples\": [\n          128097,\n          10068,\n          128146\n        ],\n        \"semantic_type\": \"\",\n        \"description\": \"\"\n      }\n    }\n  ]\n}"
            }
          },
          "metadata": {},
          "execution_count": 11
        }
      ]
    },
    {
      "cell_type": "markdown",
      "source": [
        "Проверьте, что в словаре помимо эмотиконов есть и обычные слова, выведите на экран 10 первых токенов из словаря."
      ],
      "metadata": {
        "id": "S4AXoWuJalZM"
      }
    },
    {
      "cell_type": "code",
      "source": [
        "for index, word in enumerate(wv.index_to_key):\n",
        "    if index == 10:\n",
        "        break\n",
        "    print(f\"word #{index}/{len(wv.index_to_key)} is {word}\")"
      ],
      "metadata": {
        "colab": {
          "base_uri": "https://localhost:8080/"
        },
        "id": "9uZvBpQwxMV8",
        "outputId": "2b67305c-ab1e-4664-b728-dbfdef7f1172"
      },
      "execution_count": 12,
      "outputs": [
        {
          "output_type": "stream",
          "name": "stdout",
          "text": [
            "word #0/23069 is i\n",
            "word #1/23069 is the\n",
            "word #2/23069 is to\n",
            "word #3/23069 is you\n",
            "word #4/23069 is a\n",
            "word #5/23069 is 😂\n",
            "word #6/23069 is my\n",
            "word #7/23069 is and\n",
            "word #8/23069 is me\n",
            "word #9/23069 is for\n"
          ]
        }
      ]
    },
    {
      "cell_type": "markdown",
      "source": [
        "# Эксперименты"
      ],
      "metadata": {
        "id": "jMkEKV1xawXx"
      }
    },
    {
      "cell_type": "markdown",
      "source": [
        "## 1. Похожесть эмотиконов\n",
        "Посчитайте и выведите на экран 10 наиболее похожих токенов на эмотикон 😊. Сколько среди них слов, сколько эмотиконов?\n",
        "\n",
        "*Чек-поинт 1: Модель должна быть обучена так, чтобы среди похожих токенов эмотиконов было не менее 5.*"
      ],
      "metadata": {
        "id": "i4DfJ3N2a0W0"
      }
    },
    {
      "cell_type": "code",
      "source": [
        "def count_emoji(sentence):\n",
        "  e_count=len([x[0] for x in sentence if is_emoji(x[0])])\n",
        "  return e_count, len(sentence)-e_count"
      ],
      "metadata": {
        "id": "mQ9q1sU4cJ-G"
      },
      "execution_count": 13,
      "outputs": []
    },
    {
      "cell_type": "code",
      "source": [
        "query_emo=['😊'] #  🐱\n",
        "#query_emo=['👀'] #  👀😭\n",
        "#query_emo=['😭']\n",
        "emo_similar=wv.most_similar(positive=query_emo,topn=10)\n",
        "emo_count=count_emoji(emo_similar)\n",
        "print('Emoticons \\ words',emo_count)\n",
        "print(*emo_similar,sep='\\n')"
      ],
      "metadata": {
        "colab": {
          "base_uri": "https://localhost:8080/"
        },
        "id": "XYsWBbJ0yAJi",
        "outputId": "c7f45295-ce83-46ae-9268-fa279f2a5bc2"
      },
      "execution_count": 14,
      "outputs": [
        {
          "output_type": "stream",
          "name": "stdout",
          "text": [
            "Emoticons \\ words (9, 1)\n",
            "('😉', 0.5202940702438354)\n",
            "('😀', 0.5094165802001953)\n",
            "('🙂', 0.4810003936290741)\n",
            "('😃', 0.4675767719745636)\n",
            "('😄', 0.46650177240371704)\n",
            "('😌', 0.4471561014652252)\n",
            "('😁', 0.44031384587287903)\n",
            "('😇', 0.4366243779659271)\n",
            "('👍', 0.3766186833381653)\n",
            "('and', 0.372602254152298)\n"
          ]
        }
      ]
    },
    {
      "cell_type": "markdown",
      "source": [
        "## 2. Похожесть слов на эмотиконы\n",
        "Посчитайте и выведите на экран 10 наиболее похожих токенов на слово `kitty`. Сколько среди них слов, сколько эмотиконов?\n",
        "\n",
        "*Чек-поинт 2: Модель должна быть обучена так, чтобы среди похожих токенов был хотя бы 1 эмотикон.*"
      ],
      "metadata": {
        "id": "OVwXdNOZfjuk"
      }
    },
    {
      "cell_type": "code",
      "source": [
        "query_word=['kitty']\n",
        "emo_similar=wv.most_similar(positive=query_word,topn=10)\n",
        "emo_count=count_emoji(emo_similar)\n",
        "print('Emoticons \\ words',emo_count)\n",
        "print(*emo_similar,sep='\\n')\n"
      ],
      "metadata": {
        "colab": {
          "base_uri": "https://localhost:8080/"
        },
        "id": "ueLC4YBiyh3c",
        "outputId": "d78b1153-8f3a-4b91-fb2e-bd54a5d55ae8"
      },
      "execution_count": 15,
      "outputs": [
        {
          "output_type": "stream",
          "name": "stdout",
          "text": [
            "Emoticons \\ words (2, 8)\n",
            "('kitties', 0.545719563961029)\n",
            "('kitten', 0.49815553426742554)\n",
            "('cat', 0.4872535169124603)\n",
            "('meow', 0.47681599855422974)\n",
            "('pupper', 0.43729203939437866)\n",
            "('🐈', 0.43161293864250183)\n",
            "('pup', 0.4227438271045685)\n",
            "('hamster', 0.4058762192726135)\n",
            "('🐱', 0.4034464657306671)\n",
            "('scaredy', 0.3950367867946625)\n"
          ]
        }
      ]
    },
    {
      "cell_type": "markdown",
      "source": [
        "Среди похожих токенов из п.2 есть хотя бы 1 эмотикон. Найдите его, для него выведите на экран 5 самых близких токенов. Какой токен оказался самым близким к этому эмотикону, это слово или эмотикон?"
      ],
      "metadata": {
        "id": "9QZTIWJPgoIw"
      }
    },
    {
      "cell_type": "code",
      "source": [
        "emo_first=[x[0] for x in emo_similar if is_emoji(x[0])][0]\n",
        "print(emo_first)\n",
        "emo_similar_first=wv.most_similar(positive=emo_first,topn=5)\n",
        "emo_count_first=count_emoji(emo_similar_first)\n",
        "print('Emoticons \\ words',emo_count_first)\n",
        "print(*emo_similar_first,sep='\\n')\n",
        "print('Nearest  is a \"', emo_similar_first[0][0],'\" emoticon' if is_emoji(emo_similar_first[0][0]) else '\" word')"
      ],
      "metadata": {
        "colab": {
          "base_uri": "https://localhost:8080/"
        },
        "id": "HuaHB21N0LZK",
        "outputId": "fe970ef9-1777-43ec-b8e1-aea2a8d709b8"
      },
      "execution_count": 16,
      "outputs": [
        {
          "output_type": "stream",
          "name": "stdout",
          "text": [
            "🐈\n",
            "Emoticons \\ words (3, 2)\n",
            "('🐩', 0.460335373878479)\n",
            "('🐕', 0.4563700258731842)\n",
            "('🐱', 0.45205044746398926)\n",
            "('kitties', 0.4500630497932434)\n",
            "('cat', 0.44573646783828735)\n",
            "Nearest  is a \" 🐩 \" emoticon\n"
          ]
        }
      ]
    },
    {
      "cell_type": "markdown",
      "source": [
        "## 3. Отношения эмотиконов и слов"
      ],
      "metadata": {
        "id": "OiAsQQXuj-ua"
      }
    },
    {
      "cell_type": "markdown",
      "source": [
        "### А)\n",
        "Найдите ближайшее **слово** Х подходящее под уравнение:\n",
        "\n",
        "🐱 - 🐶 = cat - X\n",
        "\n",
        "и не совпадающее ни с одним из исходных токенов, входящих в уравнение.\n",
        "\n",
        "Выведите на экран это слово и уровень похожести."
      ],
      "metadata": {
        "id": "f48jyt0QkMRS"
      }
    },
    {
      "cell_type": "code",
      "source": [
        "tokenA='🐱'\n",
        "tokenB='🐶'\n",
        "tokenC='cat'\n",
        "\n",
        "out=wv[tokenC]-wv[tokenA]+wv[tokenB]\n",
        "candidate=[x for x in wv.similar_by_vector(out,topn=50) if x[0] not in [tokenA,tokenB,tokenC]]\n",
        "#candidate=[x for x in wv.similar_by_vector(out,topn=50)]\n",
        "res=[x for x in candidate if not is_emoji(x[0])][0]\n",
        "print(res)\n"
      ],
      "metadata": {
        "colab": {
          "base_uri": "https://localhost:8080/"
        },
        "id": "bhPxPpYs2pnL",
        "outputId": "930d8e21-f463-4d7f-c053-3d3560cf8643"
      },
      "execution_count": 17,
      "outputs": [
        {
          "output_type": "stream",
          "name": "stdout",
          "text": [
            "('puppy', 0.470476359128952)\n"
          ]
        }
      ]
    },
    {
      "cell_type": "markdown",
      "source": [
        "### Б)\n",
        " Найдите ближайший **эмотикон** Х подходящий под уравнение:\n",
        "\n",
        "kitty - puppy = 🐱 - X  \n",
        "\n",
        "и не совпадающий ни с одним из исходных токенов, входящих в уравнение.\n",
        "\n",
        "Выведите на экран этот эмотикон и уровень похожести."
      ],
      "metadata": {
        "id": "eFfSj_MWmcnu"
      }
    },
    {
      "cell_type": "code",
      "source": [
        "tokenA='kitty'\n",
        "tokenB='puppy'\n",
        "tokenC='🐱'\n",
        "\n",
        "out=wv[tokenC]-wv[tokenA]+wv[tokenB]\n",
        "candidate=[x for x in wv.similar_by_vector(out,topn=50) if x[0] not in [tokenA,tokenB,tokenC]]\n",
        "res=[x for x in candidate if is_emoji(x[0])][0]\n",
        "print(res)\n",
        "\n"
      ],
      "metadata": {
        "colab": {
          "base_uri": "https://localhost:8080/"
        },
        "outputId": "e1b37747-109c-452f-9ae9-ea6d14d311a6",
        "id": "lIzjpEFfm3Ph"
      },
      "execution_count": 18,
      "outputs": [
        {
          "output_type": "stream",
          "name": "stdout",
          "text": [
            "('🐶', 0.32287806272506714)\n"
          ]
        }
      ]
    },
    {
      "cell_type": "code",
      "source": [
        "print(emo_unic_symb)"
      ],
      "metadata": {
        "colab": {
          "base_uri": "https://localhost:8080/"
        },
        "id": "m-9CF3HoJ-qk",
        "outputId": "5ce2437e-e9b1-41dd-f3e5-db7d87cd3461"
      },
      "execution_count": 19,
      "outputs": [
        {
          "output_type": "stream",
          "name": "stdout",
          "text": [
            "['😂', '😭', '😍', '😊', '🙄', '😩', '👀', '💀', '😘', '💕', '👍', '🎶', '❤', '👌', '💯', '🙃', '🎉', '🔥', '😒', '👏', '👉', '😉', '😅', '💖', '😎', '😁', '😔', '💋', '😌', '🎃', '💙', '😢', '📷', '😏', '👻', '🎧', '💜', '😴', '😳', '🙏', '🌚', '😑', '😕', '💗', '😜', '👑', '💞', '🙂', '🙌', '😋', '😐', '😈', '😞', '✨', '😪', '🙈', '👇', '💔', '😄', '🌸', '🌹', '😛', '😀', '😬', '💓', '👅', '💛', '🏽', '👊', '😇', '💘', '😫', '🏻', '😱', '😆', '🏼', '🏾', '🌟', '🎈', '💪', '😤', '😡', '🎥', '🎂', '🏆', '😝', '😃', '💚', '🎤', '🍻', '💥', '👈', '🎵', '🌞', '✔', '😷', '😻', '💃', '🍃', '🐶', '🏈', '👋', '🤔', '💰', '🏀', '🔴', '😣', '🐐', '💦', '🎄', '🍾', '😓', '🌎', '😥', '🙊', '📲', '🌊', '😚', '‼', '🌻', '☺', '💫', '🌙', '🍷', '👯', '💎', '🍀', '🔘', '🍕', '😹', '🚨', '🍂', '😶', '➡', '🙁', '🎁', '👄', '😖', '💩', '✌', '🌺', '💍', '🗣', '⚠', '👎', '🐱', '🍁', '👽', '🎯', '💟', '😰', '✅', '🎀', '🎬', '🍒', '🍑', '💤', '📢', '🐾', '💸', '💝', '👂', '🌈', '🎊', '📹', '🍭', '🍸', '🍎', '🐍', '🤘', '▶', '🌴', '📍', '🎼', '🌷', '🎆', '🍹', '👫', '🌠', '😙', '😠', '🏃', '🐻', '❌', '🏡', '🤗', '🍴', '🚮', '❗', '🍦', '🍓', '😟', '🍆', '💅', '🎅', '🍰', '👐', '💨', '😮', '📸', '👆', '⚡', '👭', '👿', '💑', '🔞', '♨', '🙋', '🌍', '🐝', '😧', '👸', '♥', '🎇', '😲', '🐷', '🍉', '🍺', '😨', '🌼', '🐘', '🖕', '⚽', '🏠', '🍌', '🍫', '🔑', '👁', '💉', '🚀', '😵', '🌝', '☀', '💐', '👹', '📺', '💁', '💣', '💌', '🔫', '💭', '🎓', '🔵', '🎨', '🙆', '👼', '❣', '🌌', '💄', '🔊', '✊', '🍩', '⭐', '☕', '📻', '🎸', '🍨', '📚', '👣', '🌿', '😯', '📣', '🔓', '👠', '🍧', '🍪', '👥', '💬', '🐸', '🔹', '🍬', '😿', '🐰', '❄', '👶', '🐯', '☁', '💏', '🌏', '🐧', '📽', '🏁', '🍗', '🚗', '🚫', '🌅', '🐼', '➖', '🌱', '📝', '😦', '🏌', '🌮', '🔝', '🌃', '🍔', '📱', '💧', '🌶', '🐥', '🌵', '🌲', '🎮', '🆓', '✋', '✈', '🎭', '🏿', '👧', '🙅', '💊', '🚶', '🐣', '😽', '🤑', '🍟', '☝', '🐴', '🎫', '🍊', '🔸', '💻', '🔱', '🌀', '🔮', '👗', '🐦', '🙀', '💡', '🔪', '💆', '🎩', '🌬', '💵', '🏐', '😸', '😼', '🎙', '🔔', '🐢', '🍍', '🍜', '💢', '🎹', '✖', '👟', '🐒', '👾', '🍋', '👛', '⬇', '🚺', '🙇', '🐬', '🐺', '🔺', '💷', '🍳', '🔆', '🌾', '🐟', '⏩', '🐳', '🍇', '☹', '📆', '🍽', '👙', '📈', '🙎', '🌧', '👓', '🦄', '©', '🚂', '🔗', '🗯', '🍝', '😗', '🔎', '🎾', '🔌', '🍞', '🔈', '🔅', '👩', '🏒', '📌', '🏳', '🐑', '♣', '📖', '🐎', '😺', '🍼', '🏉', '🚻', '🐠', '🙉', '⏰', '🌤', '🤓', '™', '🍵', '🕸', '🍯', '▫', '👤', '👬', '👺', '☑', '↪', '🍿', '🎱', '🍏', '🌽', '☠', '🐊', '🔻', '⤵', '✳', '🐔', '♒', '🍅', '🏅', '🦁', '🛍', '🍥', '🌳', '🎪', '👪', '🔐', '🐕', '👔', '🌐', '👜', '🆕', '🐙', '👦', '📰', '⚪', '🏊', '🌪', '🏄', '🌄', '♋', '🍣', '🏇', '👖', '🌛', '👕', '❇', '➿', '🔁', '🐽', '⌚', '🛃', '📞', '📦', '☎', '💇', '🦃', '🗓', '🎟', '🎒', '♻', '🐈', '⚾', '☔', '😾', '👰', '⬅', '👨', '🕊', '👮', '🎣', '🤒', '🏰', '🚪', '☪', '🍄', '❕', '📅', '🐮', '🍐', '💈', '🐛', '🚬', '🌆', '🐞', '🤕', '🌜', '🌭', '🏙', '🎷', '🔙', '🔒', '🎲', '🐋', '⚫', '🛫', '🕷', '👢', '🐤', '🔶', '🐇', '🐭', '🚌', '🏎', '🌑', '🍤', '➕', '🐲', '🔜', '🗽', '🏢', '⛏', '🍲', '🎐', '🧀', '🐵', '🐓', '🖖', '🐉', '🌕', '💿', '✍', '🚒', '🌰', '💂', '🌯', '🐨', '🤐', '⛅', '🐖', '⛽', '🌇', '🖐', '🐚', '🌨', '👵', '👒', '🎺', '🐀', '🍠', '💒', '✴', '🚘', '⬆', '❓', '🚿', '⛄', '🐌', '🔛', '🍖', '🚽', '🐿', '👱', '🏋', '🚲', '📡', '🖥', '👃', '⚓', '🐩', '⏬', '🖊', '↩', '🚙', '🚚', '🕶', '🔨', '🎳', '🏂', '🎻', '🎏', '☄', '🎎', '🔄', '🏞', '🔍', '🎞', '☃', '🌥', '🐜', '🆘', '💲', '◀', '🏝', '🐏', '💮', '🔷', '🚃', '🍚', '👴', '✝', '📊', '👚', '🎑', '®', '🏹', '🏥', '👞', '🐂', '🌫', '💳', '⛳', '🔋', '🚩', '🌩', '🏍', '🙍', '🔦', '🆙', '⚜', '☮', '🏖', '🚆', '🎖', '✂', '☘', '🕯', '⚰', '📧', '💼', '🎰', '🐅', '🐹', '🍡', '🌒', '📉', '🅱', '🎡', '🌉', '🐄', '🐫', '🏏', '🅰', '📒', '🍈', '🗑', '⁉', '🛀', '🍮', '♠', '▪', '⤴', '🎗', '🏔', '✏', '🍛', '🌋', '💠', '〰', '📩', '🚓', '🗝', '🚋', '💶', '🌡', '🤖', '🚢', '🎍', '🕵', '🛩', '🐆', '🎦', '🦂', '🚴', '🗡', '♏', '👳', '🔯', '🐗', '🐪', '🎽', '🎋', '🆔', '🚧', '🗿', '📀', '💹', '📶', '🌗', '🏧', '🏴', '🏨', '🅿', '🚦', '⚔', '👘', '🌓', '🍶', '🍱', '🌂', '🎌', '🎢', '🏫', '⛵', '🏩', '🏛', '🗻', '🌘', '🏑', '👡', '🆗', '🔂', '🏚', '🚑', '🌦', '⏳', '⭕', '🌁', '💽', '⏱', '🃏', '🚔', '📥', '🔃', '🛌', '👷', '⌛', '🦀', '🔰', '🏟', '📮', '🚁', '🏪', '〽', '🎿', '🎠', '⛔', '🏸', '🛬', '🐡', '🏓', '🗺', '⛪', '🏤', '🔽', '🚄', '◽', '🆒', '🚹', '🗳', '🕴', '🚛', '♦', '🔟', '🚕', '⏪', '📎', '🌖', '🌔', '📪', '🚍', '🍙', '🔲', '🕖', '♉', '❔', '⛈', '🕹', '💺', '📓', '🗼', '🕒', '🛳', '📬', '🆚', '🔚', '☯', '🍢', '🖌', '⚛', '📼', '🕰', '🚐', '🚥', '🔬', '🛁', '🔧', '↔', '🚜', '🉐', '🏜', '⚒', '🕳', '🚉', '➰', '🚣', '🚵', '⛱', '✒', '🎚', '🚼', '🖼', '🚇', '📕', '🔩', '🚭', '🏵', '👲', '🏦', '♈', '📄', '✉', '🖋', '🚈', '🔉', '🕋', '🐁', '🛠', '🎛', '📛', '♐', '🛣', '↕', '📑', '🔇', '🚖', '⛓', '🚷', '📋', '🛥', '💱', '🛅', '📯', '📳', '🕐', '↙', '❎', '♎', '💴', '🅾', '🕉', '⏯', '🏘', '🖍', '🔳', '🏕', '♓', '⚖', '📜', '🐃', '🚾', '↗', '♿', '📤', '🎴', '♑', '🔢', '📁', '🚅', '◻', '📐', '🏯', '🗾', '⬛', '⛸', '🏣', '⛺', '🚊', '⛴', '📿', '📃', '⛹', '♊', '🍘', '📵', '🚤', '🛋', '🛡', '⛷', '↘', '🔭', '📴', '🕛', '📘', '🔼', '☣', '🏮', '🚏', '⛎', '💾', '🛢', '📗', '☢', '⏲', '📙', '🔖', '🖇', '⚗', '🏭', '🕓', '🕗', '🛎', '📨', '🕙', '🗒', '🏷', '◾', '🔕', '🔀', '🚝', '🕑', '♍', '🕌', '🛐', '🚰', '🆖']\n"
          ]
        }
      ]
    },
    {
      "cell_type": "markdown",
      "source": [
        "### В)\n",
        " Найдите ближайший **эмотикон** Х подходящий под уравнение:\n",
        "\n",
        " man - 😊 = cat - X  \n",
        "\n",
        "и не совпадающий ни с одним из исходных токенов, входящих в уравнение.\n",
        "\n",
        "Выведите на экран этот эмотикон и уровень похожести."
      ],
      "metadata": {
        "id": "Jr328-cvQvEn"
      }
    },
    {
      "cell_type": "code",
      "source": [
        "tokenA='man'\n",
        "tokenB='😊' #\n",
        "#tokenB='😭'\n",
        "tokenC='cat'\n",
        "#tokenC='dog'\n",
        "\n",
        "out=wv[tokenC]-wv[tokenA]+wv[tokenB]\n",
        "candidate=[x for x in wv.similar_by_vector(out,topn=50) if x[0] not in [tokenA,tokenB,tokenC]]\n",
        "res=[x for x in candidate if is_emoji(x[0])][0:2]\n",
        "print(res)\n"
      ],
      "metadata": {
        "colab": {
          "base_uri": "https://localhost:8080/"
        },
        "id": "pJznRm4EKpYh",
        "outputId": "f344df16-e756-4383-af75-7c0f49f15f3b"
      },
      "execution_count": 20,
      "outputs": [
        {
          "output_type": "stream",
          "name": "stdout",
          "text": [
            "[('😸', 0.3597041666507721), ('😃', 0.3290247321128845)]\n"
          ]
        }
      ]
    },
    {
      "cell_type": "markdown",
      "source": [
        "Вариант Г"
      ],
      "metadata": {
        "id": "4P8yhxGJXOD8"
      }
    },
    {
      "cell_type": "markdown",
      "source": [
        "coffee - ☕ = tired - X"
      ],
      "metadata": {
        "id": "pyNbQsdgXPw0"
      }
    },
    {
      "cell_type": "code",
      "source": [
        "tokenA = 'coffee'\n",
        "tokenB = '☕'\n",
        "tokenC = 'tired'\n",
        "\n",
        "out = wv[tokenC] - wv[tokenA] + wv[tokenB]\n",
        "candidate = [x for x in wv.similar_by_vector(out, topn=50) if x[0] not in [tokenA, tokenB, tokenC]]\n",
        "res = [x for x in candidate if is_emoji(x[0])][:1]\n",
        "\n",
        "print(res)\n"
      ],
      "metadata": {
        "colab": {
          "base_uri": "https://localhost:8080/"
        },
        "id": "QOAzfGvxXRDc",
        "outputId": "8c12f812-969a-44fd-e5ec-9744c51d191d"
      },
      "execution_count": 21,
      "outputs": [
        {
          "output_type": "stream",
          "name": "stdout",
          "text": [
            "[('⚗', 0.35499680042266846)]\n"
          ]
        }
      ]
    },
    {
      "cell_type": "markdown",
      "source": [
        "happy - 😀 = cold - X\n"
      ],
      "metadata": {
        "id": "rzgMoDVMXaDO"
      }
    },
    {
      "cell_type": "code",
      "source": [
        "tokenA = 'happy'\n",
        "tokenB = '😀'\n",
        "tokenC = 'cold'\n",
        "\n",
        "out = wv[tokenC] - wv[tokenA] + wv[tokenB]\n",
        "candidate = [x for x in wv.similar_by_vector(out, topn=50) if x[0] not in [tokenA, tokenB, tokenC]]\n",
        "res = [x for x in candidate if is_emoji(x[0])][:1]\n",
        "print(res)\n"
      ],
      "metadata": {
        "colab": {
          "base_uri": "https://localhost:8080/"
        },
        "id": "npEGVbpNXbMH",
        "outputId": "23266a1b-d5c6-48e7-e856-4fe8ae8a1fba"
      },
      "execution_count": 22,
      "outputs": [
        {
          "output_type": "stream",
          "name": "stdout",
          "text": [
            "[('😣', 0.29037338495254517)]\n"
          ]
        }
      ]
    },
    {
      "cell_type": "code",
      "source": [
        "fire - 🔥 = ice - X\n"
      ],
      "metadata": {
        "id": "T7kcXVMDXdFP"
      },
      "execution_count": null,
      "outputs": []
    },
    {
      "cell_type": "code",
      "source": [
        "tokenA = 'fire'\n",
        "tokenB = '🔥'\n",
        "tokenC = 'ice'\n",
        "\n",
        "out = wv[tokenC] - wv[tokenA] + wv[tokenB]\n",
        "candidate = [x for x in wv.similar_by_vector(out, topn=50) if x[0] not in [tokenA, tokenB, tokenC]]\n",
        "res = [x for x in candidate if is_emoji(x[0])][:1]\n",
        "print(res)\n"
      ],
      "metadata": {
        "colab": {
          "base_uri": "https://localhost:8080/"
        },
        "id": "Sdlut_ytXeLn",
        "outputId": "35522569-d804-478f-bfda-3ffce9d1fda7"
      },
      "execution_count": 23,
      "outputs": [
        {
          "output_type": "stream",
          "name": "stdout",
          "text": [
            "[('❄', 0.2195388674736023)]\n"
          ]
        }
      ]
    }
  ]
}